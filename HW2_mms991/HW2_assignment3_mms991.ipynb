{
 "cells": [
  {
   "cell_type": "code",
   "execution_count": null,
   "metadata": {
    "collapsed": true
   },
   "outputs": [],
   "source": [
    "from __future__ import division, print_function\n",
    "import os\n",
    "import numpy as np\n",
    "import pylab as pl\n",
    "import pandas as pd"
   ]
  },
  {
   "cell_type": "code",
   "execution_count": null,
   "metadata": {
    "collapsed": true
   },
   "outputs": [],
   "source": [
    "%pylab inline"
   ]
  },
  {
   "cell_type": "code",
   "execution_count": null,
   "metadata": {
    "collapsed": true
   },
   "outputs": [],
   "source": [
    "np.random.seed(991)\n",
    "# retaining some preferences from bb1569\n",
    "pl.rc('figure', figsize=(10, 6))\n",
    "pl.rc('font', size=15)\n",
    "pd.options.display.max_rows = 100"
   ]
  },
  {
   "cell_type": "code",
   "execution_count": null,
   "metadata": {
    "collapsed": true
   },
   "outputs": [],
   "source": [
    "DFData=os.getenv(\"DFDATA\")\n",
    "print(DFData)"
   ]
  },
  {
   "cell_type": "code",
   "execution_count": null,
   "metadata": {
    "collapsed": true
   },
   "outputs": [],
   "source": [
    "# 3nja-bsch/1414245865/3nja-bsch is NYPL Manhattan Open data\n",
    "\n",
    "link=(DFData+\"/3nja-bsch/1414245865/3nja-bsch\")"
   ]
  },
  {
   "cell_type": "code",
   "execution_count": null,
   "metadata": {
    "collapsed": true
   },
   "outputs": [],
   "source": [
    "data=pd.read_csv(link)\n",
    "data.head()\n",
    "data.columns"
   ]
  },
  {
   "cell_type": "code",
   "execution_count": null,
   "metadata": {
    "collapsed": true
   },
   "outputs": [],
   "source": [
    "# keep only 2 numeric columns \n",
    "data_cut=data.filter([\"ADULT Program\",\"ADULT Attendance\"],axis=1)\n",
    "data_cut.head()"
   ]
  },
  {
   "cell_type": "code",
   "execution_count": null,
   "metadata": {
    "collapsed": true
   },
   "outputs": [],
   "source": [
    "pl.figure()\n",
    "x=data_cut[\"ADULT Program\"]\n",
    "y=data_cut[\"ADULT Attendance\"]\n",
    "\n",
    "pl.plot(x,y,\"ro\")\n",
    "#pl.axis([0,2000,0,5000])  uncomment to see figure without outliers and better identify trend\n",
    "pl.ylabel(\"Adult Attendance\",fontsize=15)\n",
    "pl.xlabel(\"Adult Program\",fontsize=15)\n",
    "pl.title(\"Scatter Plot Attendance vs Program\",fontsize=20)"
   ]
  }
 ],
 "metadata": {
  "kernelspec": {
   "display_name": "Python 3",
   "language": "python",
   "name": "python3"
  }
 },
 "nbformat": 4,
 "nbformat_minor": 0
}
