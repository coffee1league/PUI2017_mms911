{
 "cells": [
  {
   "cell_type": "markdown",
   "metadata": {},
   "source": [
    "## Research question: Do subscribers take shorter trips than customers?\n",
    "\n",
    "__ Null Hypothesis:__ There is no difference between the mean trip duration (d) for subscribers compared to the mean trip duation for customers. $$H_{0}: \\bar{d}_{sub} = \\bar{d}_{cus}$$\n",
    "\n",
    "__ Alternative Hypothesis:__ The mean trip duration (d) for subscribers is not equal to the mean trip duration for customers. $$H_{0}: \\bar{d}_{sub} \\neq \\bar{d}_{cus} $$"
   ]
  },
  {
   "cell_type": "code",
   "execution_count": 1,
   "metadata": {
    "collapsed": false
   },
   "outputs": [
    {
     "name": "stdout",
     "output_type": "stream",
     "text": [
      "Populating the interactive namespace from numpy and matplotlib\n"
     ]
    },
    {
     "name": "stderr",
     "output_type": "stream",
     "text": [
      "/opt/rh/anaconda/root/envs/PUI2016_Python2/lib/python2.7/site-packages/IPython/html.py:14: ShimWarning: The `IPython.html` package has been deprecated. You should import from `notebook` instead. `IPython.html.widgets` has moved to `ipywidgets`.\n",
      "  \"`IPython.html.widgets` has moved to `ipywidgets`.\", ShimWarning)\n"
     ]
    }
   ],
   "source": [
    "from __future__  import print_function, division\n",
    "import pandas as pd\n",
    "import numpy as np\n",
    "\n",
    "import pylab as pl\n",
    "%pylab inline\n",
    "import seaborn as sns\n",
    "\n",
    "import os\n",
    "os.environ[\"DFDATA\"] = \"/home/cusp/mms991/PUIdata\" # delete before submitting"
   ]
  },
  {
   "cell_type": "code",
   "execution_count": 2,
   "metadata": {
    "collapsed": false
   },
   "outputs": [
    {
     "name": "stdout",
     "output_type": "stream",
     "text": [
      "/home/cusp/mms991/PUIdata\n"
     ]
    }
   ],
   "source": [
    "DFData = os.getenv(\"DFDATA\")\n",
    "print(DFData)"
   ]
  },
  {
   "cell_type": "code",
   "execution_count": 3,
   "metadata": {
    "collapsed": false
   },
   "outputs": [
    {
     "data": {
      "text/plain": [
       "False"
      ]
     },
     "execution_count": 3,
     "metadata": {},
     "output_type": "execute_result"
    }
   ],
   "source": [
    "# the dataset we are interested in: 201707-citibike-tripdata.csv\n",
    "datestring = \"201703\"\n",
    "#checking if the file is in environment\n",
    "os.path.isfile(DFData + \"/\" + datestring + \"-citibike-tripdata.zip\")"
   ]
  },
  {
   "cell_type": "code",
   "execution_count": 4,
   "metadata": {
    "collapsed": false
   },
   "outputs": [],
   "source": [
    "def getCitiBikeCSV(datestring):\n",
    "    print (\"Downloading\", datestring)\n",
    "    ### First I will heck that it is not already there\n",
    "    if not os.path.isfile(DFData + \"/\" + datestring + \"-citibike-tripdata.csv\"):\n",
    "        if os.path.isfile(datestring + \"-citibike-tripdata.csv\"):\n",
    "            # if in the current dir just move it\n",
    "            if os.system(\"mv \" + datestring + \"-citibike-tripdata.csv \" + DFData):\n",
    "                print (\"Error moving file!, Please check!\")\n",
    "        #otherwise start looking for the zip file\n",
    "        else:\n",
    "            if not os.path.isfile(DFData + \"/\" + datestring + \"-citibike-tripdata.zip\"):\n",
    "                if not os.path.isfile(datestring + \"-citibike-tripdata.zip\"):\n",
    "                    os.system(\"curl -O https://s3.amazonaws.com/tripdata/\" + datestring + \"-citibike-tripdata.csv.zip\")\n",
    "                ###  To move it I use the os.system() functions to run bash commands with arguments\n",
    "                os.system(\"mv \" + datestring + \"-citibike-tripdata.csv.zip \" + DFData)\n",
    "            ### unzip the csv \n",
    "            os.system(\"unzip \" + DFData + \"/\" + datestring + \"-citibike-tripdata.csv.zip\")\n",
    "            ## NOTE: old csv citibike data had a different name structure. \n",
    "            if '2014' in datestring:\n",
    "                os.system(\"mv \" + datestring[:4] + '-' +  datestring[4:] + \n",
    "                          \"\\ -\\ Citi\\ Bike\\ trip\\ data.csv \" + datestring + \"-citibike-tripdata.csv\")\n",
    "            os.system(\"mv \" + datestring + \"-citibike-tripdata.csv \" + DFData)\n",
    "    ### One final check:\n",
    "    if not os.path.isfile(DFData + \"/\" + datestring + \"-citibike-tripdata.csv\"):\n",
    "        print (\"WARNING!!! something is wrong: the file is not there!\")\n",
    "\n",
    "    else:\n",
    "        print (\"file in place, you can continue\")"
   ]
  },
  {
   "cell_type": "code",
   "execution_count": 5,
   "metadata": {
    "collapsed": false
   },
   "outputs": [
    {
     "name": "stdout",
     "output_type": "stream",
     "text": [
      "Downloading 201703\n",
      "file in place, you can continue\n"
     ]
    }
   ],
   "source": [
    "getCitiBikeCSV(datestring)"
   ]
  },
  {
   "cell_type": "code",
   "execution_count": 6,
   "metadata": {
    "collapsed": false
   },
   "outputs": [
    {
     "data": {
      "text/plain": [
       "'\\nfigure out how to make this work\\ntry:\\n    os.system(\"unzip \" + DFData + \"/\" + datestring + \"-citibike-tripdata.csv.zip\")\\n    data = pd.read_csv(DFData + \"/\" + datestring + \\'-citibike-tripdata.csv\\')\\nexcept:\\n    os.system(\"curl -O https://s3.amazonaws.com/tripdata/\" + datestring + \"-citibike-tripdata.csv.zip\")\\n    os.system(\"mv \" + datestring + \"-citibike-tripdata.zip \" + DFData)\\n    os.system(\"unzip \" + DFData + \"/\" + datestring + \"-citibike-tripdata.csv.zip\")\\n    data = pd.read_csv(DFData + \"/\" + datestring + \\'-citibike-tripdata.csv\\')\\n    print(\"data file wasn\\'t available in DFData so we pulled directly from the internet\")\\n'"
      ]
     },
     "execution_count": 6,
     "metadata": {},
     "output_type": "execute_result"
    }
   ],
   "source": [
    "'''\n",
    "figure out how to make this work\n",
    "try:\n",
    "    os.system(\"unzip \" + DFData + \"/\" + datestring + \"-citibike-tripdata.csv.zip\")\n",
    "    data = pd.read_csv(DFData + \"/\" + datestring + '-citibike-tripdata.csv')\n",
    "except:\n",
    "    os.system(\"curl -O https://s3.amazonaws.com/tripdata/\" + datestring + \"-citibike-tripdata.csv.zip\")\n",
    "    os.system(\"mv \" + datestring + \"-citibike-tripdata.zip \" + DFData)\n",
    "    os.system(\"unzip \" + DFData + \"/\" + datestring + \"-citibike-tripdata.csv.zip\")\n",
    "    data = pd.read_csv(DFData + \"/\" + datestring + '-citibike-tripdata.csv')\n",
    "    print(\"data file wasn't available in DFData so we pulled directly from the internet\")\n",
    "'''"
   ]
  },
  {
   "cell_type": "code",
   "execution_count": 7,
   "metadata": {
    "collapsed": false
   },
   "outputs": [
    {
     "data": {
      "text/html": [
       "<div>\n",
       "<table border=\"1\" class=\"dataframe\">\n",
       "  <thead>\n",
       "    <tr style=\"text-align: right;\">\n",
       "      <th></th>\n",
       "      <th>Trip Duration</th>\n",
       "      <th>Start Time</th>\n",
       "      <th>Stop Time</th>\n",
       "      <th>Start Station ID</th>\n",
       "      <th>Start Station Name</th>\n",
       "      <th>Start Station Latitude</th>\n",
       "      <th>Start Station Longitude</th>\n",
       "      <th>End Station ID</th>\n",
       "      <th>End Station Name</th>\n",
       "      <th>End Station Latitude</th>\n",
       "      <th>End Station Longitude</th>\n",
       "      <th>Bike ID</th>\n",
       "      <th>User Type</th>\n",
       "      <th>Birth Year</th>\n",
       "      <th>Gender</th>\n",
       "    </tr>\n",
       "  </thead>\n",
       "  <tbody>\n",
       "    <tr>\n",
       "      <th>0</th>\n",
       "      <td>1893</td>\n",
       "      <td>2017-03-01 00:00:32</td>\n",
       "      <td>2017-03-01 00:32:06</td>\n",
       "      <td>2009</td>\n",
       "      <td>Catherine St &amp; Monroe St</td>\n",
       "      <td>40.711174</td>\n",
       "      <td>-73.996826</td>\n",
       "      <td>527</td>\n",
       "      <td>E 33 St &amp; 2 Ave</td>\n",
       "      <td>40.744023</td>\n",
       "      <td>-73.976056</td>\n",
       "      <td>27291</td>\n",
       "      <td>Subscriber</td>\n",
       "      <td>1973.0</td>\n",
       "      <td>2</td>\n",
       "    </tr>\n",
       "    <tr>\n",
       "      <th>1</th>\n",
       "      <td>223</td>\n",
       "      <td>2017-03-01 00:01:09</td>\n",
       "      <td>2017-03-01 00:04:53</td>\n",
       "      <td>127</td>\n",
       "      <td>Barrow St &amp; Hudson St</td>\n",
       "      <td>40.731724</td>\n",
       "      <td>-74.006744</td>\n",
       "      <td>284</td>\n",
       "      <td>Greenwich Ave &amp; 8 Ave</td>\n",
       "      <td>40.739017</td>\n",
       "      <td>-74.002638</td>\n",
       "      <td>19387</td>\n",
       "      <td>Subscriber</td>\n",
       "      <td>1985.0</td>\n",
       "      <td>2</td>\n",
       "    </tr>\n",
       "    <tr>\n",
       "      <th>2</th>\n",
       "      <td>1665</td>\n",
       "      <td>2017-03-01 00:01:27</td>\n",
       "      <td>2017-03-01 00:29:12</td>\n",
       "      <td>174</td>\n",
       "      <td>E 25 St &amp; 1 Ave</td>\n",
       "      <td>40.738177</td>\n",
       "      <td>-73.977387</td>\n",
       "      <td>307</td>\n",
       "      <td>Canal St &amp; Rutgers St</td>\n",
       "      <td>40.714275</td>\n",
       "      <td>-73.989900</td>\n",
       "      <td>15809</td>\n",
       "      <td>Subscriber</td>\n",
       "      <td>1988.0</td>\n",
       "      <td>1</td>\n",
       "    </tr>\n",
       "    <tr>\n",
       "      <th>3</th>\n",
       "      <td>100</td>\n",
       "      <td>2017-03-01 00:01:29</td>\n",
       "      <td>2017-03-01 00:03:10</td>\n",
       "      <td>316</td>\n",
       "      <td>Fulton St &amp; William St</td>\n",
       "      <td>40.709560</td>\n",
       "      <td>-74.006536</td>\n",
       "      <td>306</td>\n",
       "      <td>Cliff St &amp; Fulton St</td>\n",
       "      <td>40.708235</td>\n",
       "      <td>-74.005301</td>\n",
       "      <td>18956</td>\n",
       "      <td>Subscriber</td>\n",
       "      <td>1991.0</td>\n",
       "      <td>1</td>\n",
       "    </tr>\n",
       "    <tr>\n",
       "      <th>4</th>\n",
       "      <td>1229</td>\n",
       "      <td>2017-03-01 00:01:33</td>\n",
       "      <td>2017-03-01 00:22:02</td>\n",
       "      <td>536</td>\n",
       "      <td>1 Ave &amp; E 30 St</td>\n",
       "      <td>40.741444</td>\n",
       "      <td>-73.975361</td>\n",
       "      <td>259</td>\n",
       "      <td>South St &amp; Whitehall St</td>\n",
       "      <td>40.701221</td>\n",
       "      <td>-74.012342</td>\n",
       "      <td>25728</td>\n",
       "      <td>Subscriber</td>\n",
       "      <td>1963.0</td>\n",
       "      <td>1</td>\n",
       "    </tr>\n",
       "    <tr>\n",
       "      <th>5</th>\n",
       "      <td>613</td>\n",
       "      <td>2017-03-01 00:01:57</td>\n",
       "      <td>2017-03-01 00:12:11</td>\n",
       "      <td>259</td>\n",
       "      <td>South St &amp; Whitehall St</td>\n",
       "      <td>40.701221</td>\n",
       "      <td>-74.012342</td>\n",
       "      <td>276</td>\n",
       "      <td>Duane St &amp; Greenwich St</td>\n",
       "      <td>40.717488</td>\n",
       "      <td>-74.010455</td>\n",
       "      <td>16257</td>\n",
       "      <td>Subscriber</td>\n",
       "      <td>1984.0</td>\n",
       "      <td>1</td>\n",
       "    </tr>\n",
       "    <tr>\n",
       "      <th>6</th>\n",
       "      <td>157</td>\n",
       "      <td>2017-03-01 00:02:12</td>\n",
       "      <td>2017-03-01 00:04:49</td>\n",
       "      <td>3329</td>\n",
       "      <td>Degraw St &amp; Smith St</td>\n",
       "      <td>40.682915</td>\n",
       "      <td>-73.993182</td>\n",
       "      <td>3384</td>\n",
       "      <td>Smith St &amp; 3 St</td>\n",
       "      <td>40.678724</td>\n",
       "      <td>-73.995991</td>\n",
       "      <td>26868</td>\n",
       "      <td>Subscriber</td>\n",
       "      <td>1963.0</td>\n",
       "      <td>1</td>\n",
       "    </tr>\n",
       "    <tr>\n",
       "      <th>7</th>\n",
       "      <td>233</td>\n",
       "      <td>2017-03-01 00:02:15</td>\n",
       "      <td>2017-03-01 00:06:08</td>\n",
       "      <td>3107</td>\n",
       "      <td>Bedford Ave &amp; Nassau Ave</td>\n",
       "      <td>40.723117</td>\n",
       "      <td>-73.952123</td>\n",
       "      <td>3090</td>\n",
       "      <td>N 8 St &amp; Driggs Ave</td>\n",
       "      <td>40.717746</td>\n",
       "      <td>-73.956001</td>\n",
       "      <td>21657</td>\n",
       "      <td>Subscriber</td>\n",
       "      <td>1976.0</td>\n",
       "      <td>1</td>\n",
       "    </tr>\n",
       "    <tr>\n",
       "      <th>8</th>\n",
       "      <td>317</td>\n",
       "      <td>2017-03-01 00:02:38</td>\n",
       "      <td>2017-03-01 00:07:55</td>\n",
       "      <td>3328</td>\n",
       "      <td>W 100 St &amp; Manhattan Ave</td>\n",
       "      <td>40.795000</td>\n",
       "      <td>-73.964500</td>\n",
       "      <td>3285</td>\n",
       "      <td>W 87 St  &amp; Amsterdam Ave</td>\n",
       "      <td>40.788390</td>\n",
       "      <td>-73.974700</td>\n",
       "      <td>26933</td>\n",
       "      <td>Subscriber</td>\n",
       "      <td>1981.0</td>\n",
       "      <td>1</td>\n",
       "    </tr>\n",
       "    <tr>\n",
       "      <th>9</th>\n",
       "      <td>2042</td>\n",
       "      <td>2017-03-01 00:02:54</td>\n",
       "      <td>2017-03-01 00:36:57</td>\n",
       "      <td>128</td>\n",
       "      <td>MacDougal St &amp; Prince St</td>\n",
       "      <td>40.727103</td>\n",
       "      <td>-74.002971</td>\n",
       "      <td>3289</td>\n",
       "      <td>W 90 St &amp; Amsterdam Ave</td>\n",
       "      <td>40.790179</td>\n",
       "      <td>-73.972889</td>\n",
       "      <td>25371</td>\n",
       "      <td>Subscriber</td>\n",
       "      <td>1964.0</td>\n",
       "      <td>1</td>\n",
       "    </tr>\n",
       "  </tbody>\n",
       "</table>\n",
       "</div>"
      ],
      "text/plain": [
       "   Trip Duration           Start Time            Stop Time  Start Station ID  \\\n",
       "0           1893  2017-03-01 00:00:32  2017-03-01 00:32:06              2009   \n",
       "1            223  2017-03-01 00:01:09  2017-03-01 00:04:53               127   \n",
       "2           1665  2017-03-01 00:01:27  2017-03-01 00:29:12               174   \n",
       "3            100  2017-03-01 00:01:29  2017-03-01 00:03:10               316   \n",
       "4           1229  2017-03-01 00:01:33  2017-03-01 00:22:02               536   \n",
       "5            613  2017-03-01 00:01:57  2017-03-01 00:12:11               259   \n",
       "6            157  2017-03-01 00:02:12  2017-03-01 00:04:49              3329   \n",
       "7            233  2017-03-01 00:02:15  2017-03-01 00:06:08              3107   \n",
       "8            317  2017-03-01 00:02:38  2017-03-01 00:07:55              3328   \n",
       "9           2042  2017-03-01 00:02:54  2017-03-01 00:36:57               128   \n",
       "\n",
       "         Start Station Name  Start Station Latitude  Start Station Longitude  \\\n",
       "0  Catherine St & Monroe St               40.711174               -73.996826   \n",
       "1     Barrow St & Hudson St               40.731724               -74.006744   \n",
       "2           E 25 St & 1 Ave               40.738177               -73.977387   \n",
       "3    Fulton St & William St               40.709560               -74.006536   \n",
       "4           1 Ave & E 30 St               40.741444               -73.975361   \n",
       "5   South St & Whitehall St               40.701221               -74.012342   \n",
       "6      Degraw St & Smith St               40.682915               -73.993182   \n",
       "7  Bedford Ave & Nassau Ave               40.723117               -73.952123   \n",
       "8  W 100 St & Manhattan Ave               40.795000               -73.964500   \n",
       "9  MacDougal St & Prince St               40.727103               -74.002971   \n",
       "\n",
       "   End Station ID          End Station Name  End Station Latitude  \\\n",
       "0             527           E 33 St & 2 Ave             40.744023   \n",
       "1             284     Greenwich Ave & 8 Ave             40.739017   \n",
       "2             307     Canal St & Rutgers St             40.714275   \n",
       "3             306      Cliff St & Fulton St             40.708235   \n",
       "4             259   South St & Whitehall St             40.701221   \n",
       "5             276   Duane St & Greenwich St             40.717488   \n",
       "6            3384           Smith St & 3 St             40.678724   \n",
       "7            3090       N 8 St & Driggs Ave             40.717746   \n",
       "8            3285  W 87 St  & Amsterdam Ave             40.788390   \n",
       "9            3289   W 90 St & Amsterdam Ave             40.790179   \n",
       "\n",
       "   End Station Longitude  Bike ID   User Type  Birth Year  Gender  \n",
       "0             -73.976056    27291  Subscriber      1973.0       2  \n",
       "1             -74.002638    19387  Subscriber      1985.0       2  \n",
       "2             -73.989900    15809  Subscriber      1988.0       1  \n",
       "3             -74.005301    18956  Subscriber      1991.0       1  \n",
       "4             -74.012342    25728  Subscriber      1963.0       1  \n",
       "5             -74.010455    16257  Subscriber      1984.0       1  \n",
       "6             -73.995991    26868  Subscriber      1963.0       1  \n",
       "7             -73.956001    21657  Subscriber      1976.0       1  \n",
       "8             -73.974700    26933  Subscriber      1981.0       1  \n",
       "9             -73.972889    25371  Subscriber      1964.0       1  "
      ]
     },
     "execution_count": 7,
     "metadata": {},
     "output_type": "execute_result"
    }
   ],
   "source": [
    "# creating pandas data frame object of citi bike data\n",
    "data = pd.read_csv(DFData + \"/\" + datestring + '-citibike-tripdata.csv')\n",
    "# show first 10 rows of Citi Bike trip data from 2017-03\n",
    "data.head(10)"
   ]
  },
  {
   "cell_type": "code",
   "execution_count": 8,
   "metadata": {
    "collapsed": false
   },
   "outputs": [
    {
     "data": {
      "text/plain": [
       "<matplotlib.text.Text at 0x7ff67ea54710>"
      ]
     },
     "execution_count": 8,
     "metadata": {},
     "output_type": "execute_result"
    },
    {
     "data": {
      "image/png": "[encoded data removed]",
      "text/plain": [
       "<matplotlib.figure.Figure at 0x7ff693113250>"
      ]
     },
     "metadata": {},
     "output_type": "display_data"
    }
   ],
   "source": [
    "# convert seconds into minutes\n",
    "data[\"Trip Duration\"] = (data[\"Trip Duration\"]/60)\n",
    "\n",
    "# Show distribution of 'Trip Duration' by 'User Type' (Customer vs Subscriber)\n",
    "subs = data[data['User Type']=='Subscriber']\n",
    "custs = data[data['User Type']=='Customer']\n",
    "#sns.distplot(subs['Trip Duration'], label = 'subscribers')\n",
    "#sns.distplot(custs['Trip Duration'], label = 'customers')\n",
    "sns.kdeplot(subs['Trip Duration'], label = 'subscribers')\n",
    "sns.kdeplot(custs['Trip Duration'], label = 'customers')\n",
    "pl.legend();\n",
    "\n",
    "pl.xlabel(\"Trip duration (min)\")\n",
    "pl.ylabel(\"density\")"
   ]
  },
  {
   "cell_type": "markdown",
   "metadata": {},
   "source": [
    "__ Fig. 1__ Density plot of Trip Duration by User Type. This plot shows that the shape of the distribution of trip duration is roughly the same (high positive skew) and should caution us on using a measure such as the mean to assess differences given it's susceptibility to outliers. The median or trimmed mean may be a better choice."
   ]
  },
  {
   "cell_type": "code",
   "execution_count": 18,
   "metadata": {
    "collapsed": false
   },
   "outputs": [
    {
     "data": {
      "text/html": [
       "<div>\n",
       "<table border=\"1\" class=\"dataframe\">\n",
       "  <thead>\n",
       "    <tr style=\"text-align: right;\">\n",
       "      <th></th>\n",
       "      <th>Trip Duration</th>\n",
       "      <th>User Type</th>\n",
       "    </tr>\n",
       "  </thead>\n",
       "  <tbody>\n",
       "    <tr>\n",
       "      <th>0</th>\n",
       "      <td>31.550000</td>\n",
       "      <td>Subscriber</td>\n",
       "    </tr>\n",
       "    <tr>\n",
       "      <th>1</th>\n",
       "      <td>3.716667</td>\n",
       "      <td>Subscriber</td>\n",
       "    </tr>\n",
       "    <tr>\n",
       "      <th>2</th>\n",
       "      <td>27.750000</td>\n",
       "      <td>Subscriber</td>\n",
       "    </tr>\n",
       "    <tr>\n",
       "      <th>3</th>\n",
       "      <td>1.666667</td>\n",
       "      <td>Subscriber</td>\n",
       "    </tr>\n",
       "    <tr>\n",
       "      <th>4</th>\n",
       "      <td>20.483333</td>\n",
       "      <td>Subscriber</td>\n",
       "    </tr>\n",
       "    <tr>\n",
       "      <th>5</th>\n",
       "      <td>10.216667</td>\n",
       "      <td>Subscriber</td>\n",
       "    </tr>\n",
       "    <tr>\n",
       "      <th>6</th>\n",
       "      <td>2.616667</td>\n",
       "      <td>Subscriber</td>\n",
       "    </tr>\n",
       "    <tr>\n",
       "      <th>7</th>\n",
       "      <td>3.883333</td>\n",
       "      <td>Subscriber</td>\n",
       "    </tr>\n",
       "    <tr>\n",
       "      <th>8</th>\n",
       "      <td>5.283333</td>\n",
       "      <td>Subscriber</td>\n",
       "    </tr>\n",
       "    <tr>\n",
       "      <th>9</th>\n",
       "      <td>34.033333</td>\n",
       "      <td>Subscriber</td>\n",
       "    </tr>\n",
       "  </tbody>\n",
       "</table>\n",
       "</div>"
      ],
      "text/plain": [
       "   Trip Duration   User Type\n",
       "0      31.550000  Subscriber\n",
       "1       3.716667  Subscriber\n",
       "2      27.750000  Subscriber\n",
       "3       1.666667  Subscriber\n",
       "4      20.483333  Subscriber\n",
       "5      10.216667  Subscriber\n",
       "6       2.616667  Subscriber\n",
       "7       3.883333  Subscriber\n",
       "8       5.283333  Subscriber\n",
       "9      34.033333  Subscriber"
      ]
     },
     "execution_count": 18,
     "metadata": {},
     "output_type": "execute_result"
    }
   ],
   "source": [
    "# filtering data to only include Trip Duration and User Type columns\n",
    "databyusertype = data.filter([\"Trip Duration\",\"User Type\"],axis=1)\n",
    "databyusertype.head(10)"
   ]
  },
  {
   "cell_type": "code",
   "execution_count": 10,
   "metadata": {
    "collapsed": false
   },
   "outputs": [
    {
     "data": {
      "text/html": [
       "<div>\n",
       "<table border=\"1\" class=\"dataframe\">\n",
       "  <thead>\n",
       "    <tr style=\"text-align: right;\">\n",
       "      <th></th>\n",
       "      <th></th>\n",
       "      <th>Index</th>\n",
       "      <th>Trip Duration</th>\n",
       "    </tr>\n",
       "    <tr>\n",
       "      <th>User Type</th>\n",
       "      <th></th>\n",
       "      <th></th>\n",
       "      <th></th>\n",
       "    </tr>\n",
       "  </thead>\n",
       "  <tbody>\n",
       "    <tr>\n",
       "      <th rowspan=\"8\" valign=\"top\">Customer</th>\n",
       "      <th>count</th>\n",
       "      <td>26777.000000</td>\n",
       "      <td>26777.000000</td>\n",
       "    </tr>\n",
       "    <tr>\n",
       "      <th>mean</th>\n",
       "      <td>406961.268626</td>\n",
       "      <td>38.834535</td>\n",
       "    </tr>\n",
       "    <tr>\n",
       "      <th>std</th>\n",
       "      <td>208384.764821</td>\n",
       "      <td>423.583227</td>\n",
       "    </tr>\n",
       "    <tr>\n",
       "      <th>min</th>\n",
       "      <td>43.000000</td>\n",
       "      <td>1.016667</td>\n",
       "    </tr>\n",
       "    <tr>\n",
       "      <th>25%</th>\n",
       "      <td>226605.000000</td>\n",
       "      <td>13.483333</td>\n",
       "    </tr>\n",
       "    <tr>\n",
       "      <th>50%</th>\n",
       "      <td>434693.000000</td>\n",
       "      <td>21.016667</td>\n",
       "    </tr>\n",
       "    <tr>\n",
       "      <th>75%</th>\n",
       "      <td>571288.000000</td>\n",
       "      <td>28.433333</td>\n",
       "    </tr>\n",
       "    <tr>\n",
       "      <th>max</th>\n",
       "      <td>727599.000000</td>\n",
       "      <td>41336.500000</td>\n",
       "    </tr>\n",
       "    <tr>\n",
       "      <th rowspan=\"8\" valign=\"top\">Subscriber</th>\n",
       "      <th>count</th>\n",
       "      <td>695752.000000</td>\n",
       "      <td>695752.000000</td>\n",
       "    </tr>\n",
       "    <tr>\n",
       "      <th>mean</th>\n",
       "      <td>361944.172560</td>\n",
       "      <td>12.072714</td>\n",
       "    </tr>\n",
       "    <tr>\n",
       "      <th>std</th>\n",
       "      <td>209946.976417</td>\n",
       "      <td>68.142457</td>\n",
       "    </tr>\n",
       "    <tr>\n",
       "      <th>min</th>\n",
       "      <td>0.000000</td>\n",
       "      <td>1.016667</td>\n",
       "    </tr>\n",
       "    <tr>\n",
       "      <th>25%</th>\n",
       "      <td>180115.750000</td>\n",
       "      <td>5.483333</td>\n",
       "    </tr>\n",
       "    <tr>\n",
       "      <th>50%</th>\n",
       "      <td>360838.500000</td>\n",
       "      <td>8.733333</td>\n",
       "    </tr>\n",
       "    <tr>\n",
       "      <th>75%</th>\n",
       "      <td>541270.250000</td>\n",
       "      <td>14.133333</td>\n",
       "    </tr>\n",
       "    <tr>\n",
       "      <th>max</th>\n",
       "      <td>727664.000000</td>\n",
       "      <td>24623.716667</td>\n",
       "    </tr>\n",
       "  </tbody>\n",
       "</table>\n",
       "</div>"
      ],
      "text/plain": [
       "                          Index  Trip Duration\n",
       "User Type                                     \n",
       "Customer   count   26777.000000   26777.000000\n",
       "           mean   406961.268626      38.834535\n",
       "           std    208384.764821     423.583227\n",
       "           min        43.000000       1.016667\n",
       "           25%    226605.000000      13.483333\n",
       "           50%    434693.000000      21.016667\n",
       "           75%    571288.000000      28.433333\n",
       "           max    727599.000000   41336.500000\n",
       "Subscriber count  695752.000000  695752.000000\n",
       "           mean   361944.172560      12.072714\n",
       "           std    209946.976417      68.142457\n",
       "           min         0.000000       1.016667\n",
       "           25%    180115.750000       5.483333\n",
       "           50%    360838.500000       8.733333\n",
       "           75%    541270.250000      14.133333\n",
       "           max    727664.000000   24623.716667"
      ]
     },
     "execution_count": 10,
     "metadata": {},
     "output_type": "execute_result"
    }
   ],
   "source": [
    "databyusertype.groupby('User Type').describe()"
   ]
  },
  {
   "cell_type": "code",
   "execution_count": 19,
   "metadata": {
    "collapsed": false
   },
   "outputs": [
    {
     "data": {
      "text/html": [
       "<div>\n",
       "<table border=\"1\" class=\"dataframe\">\n",
       "  <thead>\n",
       "    <tr style=\"text-align: right;\">\n",
       "      <th></th>\n",
       "      <th>Trip Duration</th>\n",
       "    </tr>\n",
       "    <tr>\n",
       "      <th>User Type</th>\n",
       "      <th></th>\n",
       "    </tr>\n",
       "  </thead>\n",
       "  <tbody>\n",
       "    <tr>\n",
       "      <th>Customer</th>\n",
       "      <td>38.834535</td>\n",
       "    </tr>\n",
       "    <tr>\n",
       "      <th>Subscriber</th>\n",
       "      <td>12.072714</td>\n",
       "    </tr>\n",
       "  </tbody>\n",
       "</table>\n",
       "</div>"
      ],
      "text/plain": [
       "            Trip Duration\n",
       "User Type                \n",
       "Customer        38.834535\n",
       "Subscriber      12.072714"
      ]
     },
     "execution_count": 19,
     "metadata": {},
     "output_type": "execute_result"
    }
   ],
   "source": [
    "durationbyuser = databyusertype.groupby(['User Type']).mean()\n",
    "durationbyuser"
   ]
  },
  {
   "cell_type": "code",
   "execution_count": 26,
   "metadata": {
    "collapsed": false
   },
   "outputs": [
    {
     "data": {
      "text/plain": [
       "<matplotlib.text.Text at 0x7ff692daef50>"
      ]
     },
     "execution_count": 26,
     "metadata": {},
     "output_type": "execute_result"
    },
    {
     "data": {
      "image/png": "[encoded data removed]",
      "text/plain": [
       "<matplotlib.figure.Figure at 0x7ff692f25f90>"
      ]
     },
     "metadata": {},
     "output_type": "display_data"
    }
   ],
   "source": [
    "ax = sns.boxplot(x=\"User Type\", y=\"Trip Duration\", data=databyusertype)\n",
    "ax.set(ylim=(0,60))\n",
    "pl.ylabel(\"Trip Duration (min)\")"
   ]
  },
  {
   "cell_type": "markdown",
   "metadata": {},
   "source": [
    "__ Fig. 2 __ A truncated box plot to show quartile distribution of Trip Duration across two User Types. From this plot you can see more clearly that there is a potential difference in mean trip duration between the two groups, More specifically that the trip duration for Subscribers is smaller than the trip duration for Customers."
   ]
  }
 ],
 "metadata": {
  "kernelspec": {
   "display_name": "PUI2016_Python2",
   "language": "python",
   "name": "pui2016_python2"
  },
  "language_info": {
   "codemirror_mode": {
    "name": "ipython",
    "version": 2
   },
   "file_extension": ".py",
   "mimetype": "text/x-python",
   "name": "python",
   "nbconvert_exporter": "python",
   "pygments_lexer": "ipython2",
   "version": "2.7.12"
  }
 },
 "nbformat": 4,
 "nbformat_minor": 0
}
