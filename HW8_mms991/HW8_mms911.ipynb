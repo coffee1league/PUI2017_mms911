{
 "cells": [
  {
   "cell_type": "markdown",
   "metadata": {},
   "source": [
    "## HW8: Make a plot, any plot\n",
    "#### Data:  NYC Parks Daily Tasks Cleaning Records, Fiscal Year 2016 "
   ]
  },
  {
   "cell_type": "code",
   "execution_count": 1,
   "metadata": {},
   "outputs": [
    {
     "name": "stdout",
     "output_type": "stream",
     "text": [
      "Populating the interactive namespace from numpy and matplotlib\n"
     ]
    },
    {
     "name": "stderr",
     "output_type": "stream",
     "text": [
      "/opt/rh/anaconda/root/envs/PUI2016_Python3/lib/python3.5/site-packages/IPython/html.py:14: ShimWarning: The `IPython.html` package has been deprecated. You should import from `notebook` instead. `IPython.html.widgets` has moved to `ipywidgets`.\n",
      "  \"`IPython.html.widgets` has moved to `ipywidgets`.\", ShimWarning)\n"
     ]
    }
   ],
   "source": [
    "import numpy as np\n",
    "import pandas as pd\n",
    "import seaborn as sb\n",
    "import json\n",
    "import pylab as pl\n",
    "%pylab inline\n",
    "try:\n",
    "    import urllib2 as urllib\n",
    "except ImportError:\n",
    "    import urllib.request as urllib"
   ]
  },
  {
   "cell_type": "code",
   "execution_count": 2,
   "metadata": {},
   "outputs": [],
   "source": [
    "# get data for just Manhattan\n",
    "url = \"https://data.cityofnewyork.us/resource/rcsc-s473.json?$limit=800000&$where=sector_name%20like%20'%25Manhattan%25'\""
   ]
  },
  {
   "cell_type": "code",
   "execution_count": 3,
   "metadata": {},
   "outputs": [],
   "source": [
    "def get_json_data(url):\n",
    "    \"\"\"\n",
    "    \n",
    "    \"\"\"\n",
    "    response = urllib.urlopen(url)\n",
    "    data = response.read().decode(\"utf-8\")\n",
    "    return pd.read_json(data, orient= \"records\")"
   ]
  },
  {
   "cell_type": "code",
   "execution_count": 4,
   "metadata": {},
   "outputs": [
    {
     "name": "stdout",
     "output_type": "stream",
     "text": [
      "(156714, 33)\n"
     ]
    }
   ],
   "source": [
    "work = get_json_data(url)\n",
    "print(work.shape)"
   ]
  },
  {
   "cell_type": "code",
   "execution_count": 5,
   "metadata": {},
   "outputs": [],
   "source": [
    "import datetime as dt"
   ]
  },
  {
   "cell_type": "code",
   "execution_count": 6,
   "metadata": {},
   "outputs": [],
   "source": [
    "work[\"date_worked\"] = pd.to_datetime(work[\"date_worked\"])\n",
    "work[\"end_time\"] = pd.to_datetime(work.end_time).dt.time\n",
    "work[\"start_time\"] = pd.to_datetime(work.start_time).dt.time\n",
    "work[\"borough\"] = work.sector_name.str.split('Sector', expand= True)[0]"
   ]
  },
  {
   "cell_type": "code",
   "execution_count": 7,
   "metadata": {
    "scrolled": true
   },
   "outputs": [
    {
     "data": {
      "text/html": [
       "<div>\n",
       "<table border=\"1\" class=\"dataframe\">\n",
       "  <thead>\n",
       "    <tr style=\"text-align: right;\">\n",
       "      <th></th>\n",
       "      <th>activity</th>\n",
       "      <th>animal_waste</th>\n",
       "      <th>broken_glass</th>\n",
       "      <th>daily_task_activity_id</th>\n",
       "      <th>daily_task_id</th>\n",
       "      <th>date_worked</th>\n",
       "      <th>district</th>\n",
       "      <th>dt_system</th>\n",
       "      <th>dumping</th>\n",
       "      <th>end_time</th>\n",
       "      <th>...</th>\n",
       "      <th>propid</th>\n",
       "      <th>rel_day</th>\n",
       "      <th>rel_week</th>\n",
       "      <th>route_id</th>\n",
       "      <th>sector_desc</th>\n",
       "      <th>sector_name</th>\n",
       "      <th>signname</th>\n",
       "      <th>start_time</th>\n",
       "      <th>vehicle_number</th>\n",
       "      <th>borough</th>\n",
       "    </tr>\n",
       "  </thead>\n",
       "  <tbody>\n",
       "    <tr>\n",
       "      <th>0</th>\n",
       "      <td>Work</td>\n",
       "      <td>0</td>\n",
       "      <td>0</td>\n",
       "      <td>277961.0</td>\n",
       "      <td>65143.0</td>\n",
       "      <td>2016-01-08</td>\n",
       "      <td>M-12</td>\n",
       "      <td>Daily Tasks</td>\n",
       "      <td>0.0</td>\n",
       "      <td>08:45:00</td>\n",
       "      <td>...</td>\n",
       "      <td>M042-03</td>\n",
       "      <td>191</td>\n",
       "      <td>28</td>\n",
       "      <td>1333.0</td>\n",
       "      <td>Districts 12, 12A</td>\n",
       "      <td>Manhattan Sector A</td>\n",
       "      <td>Inwood Hill Park</td>\n",
       "      <td>08:30:00</td>\n",
       "      <td>5839.0</td>\n",
       "      <td>Manhattan</td>\n",
       "    </tr>\n",
       "    <tr>\n",
       "      <th>1</th>\n",
       "      <td>Work</td>\n",
       "      <td>0</td>\n",
       "      <td>0</td>\n",
       "      <td>277967.0</td>\n",
       "      <td>65143.0</td>\n",
       "      <td>2016-01-08</td>\n",
       "      <td>M-12</td>\n",
       "      <td>Daily Tasks</td>\n",
       "      <td>0.0</td>\n",
       "      <td>09:30:00</td>\n",
       "      <td>...</td>\n",
       "      <td>M043-ZN01</td>\n",
       "      <td>191</td>\n",
       "      <td>28</td>\n",
       "      <td>1333.0</td>\n",
       "      <td>Districts 12, 12A</td>\n",
       "      <td>Manhattan Sector A</td>\n",
       "      <td>Isham Park</td>\n",
       "      <td>09:10:00</td>\n",
       "      <td>5839.0</td>\n",
       "      <td>Manhattan</td>\n",
       "    </tr>\n",
       "    <tr>\n",
       "      <th>2</th>\n",
       "      <td>Work</td>\n",
       "      <td>0</td>\n",
       "      <td>0</td>\n",
       "      <td>677613.0</td>\n",
       "      <td>152520.0</td>\n",
       "      <td>2016-06-20</td>\n",
       "      <td>M-12</td>\n",
       "      <td>Daily Tasks</td>\n",
       "      <td>0.0</td>\n",
       "      <td>14:00:00</td>\n",
       "      <td>...</td>\n",
       "      <td>M043-ZN01</td>\n",
       "      <td>355</td>\n",
       "      <td>51</td>\n",
       "      <td>1445.0</td>\n",
       "      <td>Districts 12, 12A</td>\n",
       "      <td>Manhattan Sector A</td>\n",
       "      <td>Isham Park</td>\n",
       "      <td>13:30:00</td>\n",
       "      <td>0.0</td>\n",
       "      <td>Manhattan</td>\n",
       "    </tr>\n",
       "    <tr>\n",
       "      <th>3</th>\n",
       "      <td>Work</td>\n",
       "      <td>0</td>\n",
       "      <td>0</td>\n",
       "      <td>677617.0</td>\n",
       "      <td>152520.0</td>\n",
       "      <td>2016-06-20</td>\n",
       "      <td>M-12</td>\n",
       "      <td>Daily Tasks</td>\n",
       "      <td>0.0</td>\n",
       "      <td>15:00:00</td>\n",
       "      <td>...</td>\n",
       "      <td>MZ96</td>\n",
       "      <td>355</td>\n",
       "      <td>51</td>\n",
       "      <td>1445.0</td>\n",
       "      <td>Districts 12, 12A</td>\n",
       "      <td>Manhattan Sector A</td>\n",
       "      <td>NULL</td>\n",
       "      <td>14:45:00</td>\n",
       "      <td>0.0</td>\n",
       "      <td>Manhattan</td>\n",
       "    </tr>\n",
       "    <tr>\n",
       "      <th>4</th>\n",
       "      <td>Work</td>\n",
       "      <td>0</td>\n",
       "      <td>0</td>\n",
       "      <td>677620.0</td>\n",
       "      <td>152520.0</td>\n",
       "      <td>2016-06-20</td>\n",
       "      <td>M-12</td>\n",
       "      <td>Daily Tasks</td>\n",
       "      <td>0.0</td>\n",
       "      <td>15:20:00</td>\n",
       "      <td>...</td>\n",
       "      <td>M026</td>\n",
       "      <td>355</td>\n",
       "      <td>51</td>\n",
       "      <td>1445.0</td>\n",
       "      <td>Districts 12, 12A</td>\n",
       "      <td>Manhattan Sector A</td>\n",
       "      <td>Dyckman House Museum</td>\n",
       "      <td>15:00:00</td>\n",
       "      <td>0.0</td>\n",
       "      <td>Manhattan</td>\n",
       "    </tr>\n",
       "  </tbody>\n",
       "</table>\n",
       "<p>5 rows × 34 columns</p>\n",
       "</div>"
      ],
      "text/plain": [
       "  activity  animal_waste  broken_glass  daily_task_activity_id  daily_task_id  \\\n",
       "0     Work             0             0                277961.0        65143.0   \n",
       "1     Work             0             0                277967.0        65143.0   \n",
       "2     Work             0             0                677613.0       152520.0   \n",
       "3     Work             0             0                677617.0       152520.0   \n",
       "4     Work             0             0                677620.0       152520.0   \n",
       "\n",
       "  date_worked district    dt_system  dumping  end_time     ...         propid  \\\n",
       "0  2016-01-08     M-12  Daily Tasks      0.0  08:45:00     ...        M042-03   \n",
       "1  2016-01-08     M-12  Daily Tasks      0.0  09:30:00     ...      M043-ZN01   \n",
       "2  2016-06-20     M-12  Daily Tasks      0.0  14:00:00     ...      M043-ZN01   \n",
       "3  2016-06-20     M-12  Daily Tasks      0.0  15:00:00     ...           MZ96   \n",
       "4  2016-06-20     M-12  Daily Tasks      0.0  15:20:00     ...           M026   \n",
       "\n",
       "   rel_day rel_week  route_id        sector_desc         sector_name  \\\n",
       "0      191       28    1333.0  Districts 12, 12A  Manhattan Sector A   \n",
       "1      191       28    1333.0  Districts 12, 12A  Manhattan Sector A   \n",
       "2      355       51    1445.0  Districts 12, 12A  Manhattan Sector A   \n",
       "3      355       51    1445.0  Districts 12, 12A  Manhattan Sector A   \n",
       "4      355       51    1445.0  Districts 12, 12A  Manhattan Sector A   \n",
       "\n",
       "               signname  start_time  vehicle_number     borough  \n",
       "0      Inwood Hill Park    08:30:00          5839.0  Manhattan   \n",
       "1            Isham Park    09:10:00          5839.0  Manhattan   \n",
       "2            Isham Park    13:30:00             0.0  Manhattan   \n",
       "3                  NULL    14:45:00             0.0  Manhattan   \n",
       "4  Dyckman House Museum    15:00:00             0.0  Manhattan   \n",
       "\n",
       "[5 rows x 34 columns]"
      ]
     },
     "execution_count": 7,
     "metadata": {},
     "output_type": "execute_result"
    }
   ],
   "source": [
    "work.head()"
   ]
  },
  {
   "cell_type": "code",
   "execution_count": 8,
   "metadata": {},
   "outputs": [
    {
     "name": "stdout",
     "output_type": "stream",
     "text": [
      "Index(['animal_waste', 'broken_glass', 'graffiti', 'dumping', 'medical_waste',\n",
      "       'signname'],\n",
      "      dtype='object')\n"
     ]
    }
   ],
   "source": [
    "# only keep some columns\n",
    "keep_cols = [\"animal_waste\", \"broken_glass\", \"graffiti\",\"dumping\",\"medical_waste\",\"signname\"]\n",
    "work = work[keep_cols]\n",
    "print(work.columns)"
   ]
  },
  {
   "cell_type": "code",
   "execution_count": 9,
   "metadata": {
    "scrolled": true
   },
   "outputs": [
    {
     "name": "stdout",
     "output_type": "stream",
     "text": [
      "(134524, 6)\n"
     ]
    }
   ],
   "source": [
    "# remove observations where the park name is not listed (= NULL)\n",
    "work = work[work[\"signname\"] != \"NULL\"]\n",
    "print(work.shape)"
   ]
  },
  {
   "cell_type": "code",
   "execution_count": 10,
   "metadata": {},
   "outputs": [
    {
     "name": "stdout",
     "output_type": "stream",
     "text": [
      "(111569, 6)\n"
     ]
    }
   ],
   "source": [
    "# drop observations that contain NA\n",
    "work.dropna(inplace=True)\n",
    "print(work.shape)"
   ]
  },
  {
   "cell_type": "code",
   "execution_count": 21,
   "metadata": {},
   "outputs": [
    {
     "data": {
      "text/plain": [
       "(7345, 6)"
      ]
     },
     "execution_count": 21,
     "metadata": {},
     "output_type": "execute_result"
    }
   ],
   "source": [
    "# Filter rows to only include a select number of parks.\n",
    "work_ = work[work.signname.isin([\"Bryant Park\",\"Union Square Park\", \"Madison Square Park\", \"Washington Square Park\",\"Inwood Hill Park\"])]\n",
    "work_.shape"
   ]
  },
  {
   "cell_type": "code",
   "execution_count": 22,
   "metadata": {},
   "outputs": [
    {
     "data": {
      "text/html": [
       "<div>\n",
       "<table border=\"1\" class=\"dataframe\">\n",
       "  <thead>\n",
       "    <tr style=\"text-align: right;\">\n",
       "      <th></th>\n",
       "      <th>signname</th>\n",
       "      <th>issue</th>\n",
       "      <th>value</th>\n",
       "    </tr>\n",
       "  </thead>\n",
       "  <tbody>\n",
       "    <tr>\n",
       "      <th>0</th>\n",
       "      <td>Inwood Hill Park</td>\n",
       "      <td>animal_waste</td>\n",
       "      <td>0.0</td>\n",
       "    </tr>\n",
       "    <tr>\n",
       "      <th>1</th>\n",
       "      <td>Inwood Hill Park</td>\n",
       "      <td>animal_waste</td>\n",
       "      <td>0.0</td>\n",
       "    </tr>\n",
       "    <tr>\n",
       "      <th>2</th>\n",
       "      <td>Inwood Hill Park</td>\n",
       "      <td>animal_waste</td>\n",
       "      <td>0.0</td>\n",
       "    </tr>\n",
       "    <tr>\n",
       "      <th>3</th>\n",
       "      <td>Inwood Hill Park</td>\n",
       "      <td>animal_waste</td>\n",
       "      <td>0.0</td>\n",
       "    </tr>\n",
       "    <tr>\n",
       "      <th>4</th>\n",
       "      <td>Inwood Hill Park</td>\n",
       "      <td>animal_waste</td>\n",
       "      <td>0.0</td>\n",
       "    </tr>\n",
       "  </tbody>\n",
       "</table>\n",
       "</div>"
      ],
      "text/plain": [
       "           signname         issue  value\n",
       "0  Inwood Hill Park  animal_waste    0.0\n",
       "1  Inwood Hill Park  animal_waste    0.0\n",
       "2  Inwood Hill Park  animal_waste    0.0\n",
       "3  Inwood Hill Park  animal_waste    0.0\n",
       "4  Inwood Hill Park  animal_waste    0.0"
      ]
     },
     "execution_count": 22,
     "metadata": {},
     "output_type": "execute_result"
    }
   ],
   "source": [
    "# Transform data to get \"issue\" variable\n",
    "work_ = pd.melt(work_,value_vars=[\"animal_waste\", \"broken_glass\", \"graffiti\",\"dumping\",\"medical_waste\"],var_name=\"issue\",id_vars=[\"signname\"])\n",
    "work_.head()"
   ]
  },
  {
   "cell_type": "code",
   "execution_count": 138,
   "metadata": {
    "scrolled": true
   },
   "outputs": [
    {
     "data": {
      "image/png": "[encoded data removed]",
      "text/plain": [
       "<matplotlib.figure.Figure at 0x7f5e257fecf8>"
      ]
     },
     "metadata": {},
     "output_type": "display_data"
    }
   ],
   "source": [
    "#work_ = work_.groupby([\"signname\",\"issue\"]).sum()\n",
    "#work_ = work_.unstack()\n",
    "ax = work_.plot(kind='bar',stacked=True,colormap=\"tab10\",\\\n",
    "           title= \"Number of Issues by Type at NYC Parks, Fiscal Year 2016\", figsize= (15,10))\n",
    "\n",
    "ax.set(xlabel= \"park name\", ylabel = \"number of issues\")\n",
    "ax.legend([\"animal_waste\", \"broken_glass\", \"graffiti\",\"dumping\",\"medical_waste\"],fontsize=12)\n",
    "ax.tick_params(axis=\"x\",rotation=45, labelsize= 12)\n",
    "ax.tick_params(axis=\"y\", labelsize= 12)\n",
    "ax.yaxis.label.set_size(12)\n",
    "ax.xaxis.label.set_size(12)\n",
    "ax.title.set_size(15)\n",
    "\n"
   ]
  },
  {
   "cell_type": "code",
   "execution_count": 139,
   "metadata": {},
   "outputs": [],
   "source": [
    "fig = ax.get_figure()"
   ]
  },
  {
   "cell_type": "code",
   "execution_count": 140,
   "metadata": {},
   "outputs": [],
   "source": [
    "fig.savefig(\"/wingrdp/homedirs/mms991/PUI2017/HW8\")"
   ]
  },
  {
   "cell_type": "code",
   "execution_count": 69,
   "metadata": {},
   "outputs": [
    {
     "data": {
      "text/plain": [
       "'/wingrdp/homedirs/mms991/PUI2017/HW8'"
      ]
     },
     "execution_count": 69,
     "metadata": {},
     "output_type": "execute_result"
    }
   ],
   "source": [
    "import os\n",
    "os.getcwd()"
   ]
  },
  {
   "cell_type": "code",
   "execution_count": null,
   "metadata": {},
   "outputs": [],
   "source": []
  }
 ],
 "metadata": {
  "kernelspec": {
   "display_name": "PUI2016_Python3",
   "language": "python",
   "name": "pui2016_python3"
  },
  "language_info": {
   "codemirror_mode": {
    "name": "ipython",
    "version": 3
   },
   "file_extension": ".py",
   "mimetype": "text/x-python",
   "name": "python",
   "nbconvert_exporter": "python",
   "pygments_lexer": "ipython3",
   "version": "3.5.4"
  }
 },
 "nbformat": 4,
 "nbformat_minor": 2
}
